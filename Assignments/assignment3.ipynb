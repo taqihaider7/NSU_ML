{
 "cells": [
  {
   "cell_type": "markdown",
   "metadata": {},
   "source": [
    "## Assignment 3 - House Price Prediction"
   ]
  },
  {
   "cell_type": "markdown",
   "metadata": {},
   "source": [
    "**Requirements:** \n",
    "- Load data, link: https://www.kaggle.com/datasets/prokshitha/home-value-insights\n",
    "- Preprocessing data:\n",
    "    - check and handle missing values\n",
    "    - select columns\n",
    "    - encode categorical columns (if you select them for training)\n",
    "    - train/test split\n",
    "- Use `Linear Regression`to predict the house price\n",
    "- Present the evaluation metrics on test data: MSE, MAE, R2 score"
   ]
  },
  {
   "cell_type": "code",
   "execution_count": 1,
   "metadata": {
    "execution": {
     "iopub.execute_input": "2024-11-18T07:04:19.007727Z",
     "iopub.status.busy": "2024-11-18T07:04:19.007261Z",
     "iopub.status.idle": "2024-11-18T07:04:19.453379Z",
     "shell.execute_reply": "2024-11-18T07:04:19.452213Z",
     "shell.execute_reply.started": "2024-11-18T07:04:19.007678Z"
    },
    "trusted": true
   },
   "outputs": [],
   "source": [
    "import pandas as pd\n",
    "import numpy as np"
   ]
  },
  {
   "cell_type": "markdown",
   "metadata": {},
   "source": [
    "## 1. Load data"
   ]
  },
  {
   "cell_type": "code",
   "execution_count": 3,
   "metadata": {
    "execution": {
     "iopub.execute_input": "2024-11-18T07:04:49.696024Z",
     "iopub.status.busy": "2024-11-18T07:04:49.695292Z",
     "iopub.status.idle": "2024-11-18T07:04:49.727917Z",
     "shell.execute_reply": "2024-11-18T07:04:49.726683Z",
     "shell.execute_reply.started": "2024-11-18T07:04:49.695973Z"
    },
    "trusted": true
   },
   "outputs": [],
   "source": [
    "df = pd.read_csv('/kaggle/input/home-value-insights/house_price_regression_dataset.csv')"
   ]
  },
  {
   "cell_type": "code",
   "execution_count": 4,
   "metadata": {
    "execution": {
     "iopub.execute_input": "2024-11-18T07:05:00.072481Z",
     "iopub.status.busy": "2024-11-18T07:05:00.071480Z",
     "iopub.status.idle": "2024-11-18T07:05:00.104470Z",
     "shell.execute_reply": "2024-11-18T07:05:00.103158Z",
     "shell.execute_reply.started": "2024-11-18T07:05:00.072429Z"
    },
    "trusted": true
   },
   "outputs": [
    {
     "data": {
      "text/html": [
       "<div>\n",
       "<style scoped>\n",
       "    .dataframe tbody tr th:only-of-type {\n",
       "        vertical-align: middle;\n",
       "    }\n",
       "\n",
       "    .dataframe tbody tr th {\n",
       "        vertical-align: top;\n",
       "    }\n",
       "\n",
       "    .dataframe thead th {\n",
       "        text-align: right;\n",
       "    }\n",
       "</style>\n",
       "<table border=\"1\" class=\"dataframe\">\n",
       "  <thead>\n",
       "    <tr style=\"text-align: right;\">\n",
       "      <th></th>\n",
       "      <th>Square_Footage</th>\n",
       "      <th>Num_Bedrooms</th>\n",
       "      <th>Num_Bathrooms</th>\n",
       "      <th>Year_Built</th>\n",
       "      <th>Lot_Size</th>\n",
       "      <th>Garage_Size</th>\n",
       "      <th>Neighborhood_Quality</th>\n",
       "      <th>House_Price</th>\n",
       "    </tr>\n",
       "  </thead>\n",
       "  <tbody>\n",
       "    <tr>\n",
       "      <th>0</th>\n",
       "      <td>1360</td>\n",
       "      <td>2</td>\n",
       "      <td>1</td>\n",
       "      <td>1981</td>\n",
       "      <td>0.599637</td>\n",
       "      <td>0</td>\n",
       "      <td>5</td>\n",
       "      <td>2.623829e+05</td>\n",
       "    </tr>\n",
       "    <tr>\n",
       "      <th>1</th>\n",
       "      <td>4272</td>\n",
       "      <td>3</td>\n",
       "      <td>3</td>\n",
       "      <td>2016</td>\n",
       "      <td>4.753014</td>\n",
       "      <td>1</td>\n",
       "      <td>6</td>\n",
       "      <td>9.852609e+05</td>\n",
       "    </tr>\n",
       "    <tr>\n",
       "      <th>2</th>\n",
       "      <td>3592</td>\n",
       "      <td>1</td>\n",
       "      <td>2</td>\n",
       "      <td>2016</td>\n",
       "      <td>3.634823</td>\n",
       "      <td>0</td>\n",
       "      <td>9</td>\n",
       "      <td>7.779774e+05</td>\n",
       "    </tr>\n",
       "    <tr>\n",
       "      <th>3</th>\n",
       "      <td>966</td>\n",
       "      <td>1</td>\n",
       "      <td>2</td>\n",
       "      <td>1977</td>\n",
       "      <td>2.730667</td>\n",
       "      <td>1</td>\n",
       "      <td>8</td>\n",
       "      <td>2.296989e+05</td>\n",
       "    </tr>\n",
       "    <tr>\n",
       "      <th>4</th>\n",
       "      <td>4926</td>\n",
       "      <td>2</td>\n",
       "      <td>1</td>\n",
       "      <td>1993</td>\n",
       "      <td>4.699073</td>\n",
       "      <td>0</td>\n",
       "      <td>8</td>\n",
       "      <td>1.041741e+06</td>\n",
       "    </tr>\n",
       "    <tr>\n",
       "      <th>...</th>\n",
       "      <td>...</td>\n",
       "      <td>...</td>\n",
       "      <td>...</td>\n",
       "      <td>...</td>\n",
       "      <td>...</td>\n",
       "      <td>...</td>\n",
       "      <td>...</td>\n",
       "      <td>...</td>\n",
       "    </tr>\n",
       "    <tr>\n",
       "      <th>995</th>\n",
       "      <td>3261</td>\n",
       "      <td>4</td>\n",
       "      <td>1</td>\n",
       "      <td>1978</td>\n",
       "      <td>2.165110</td>\n",
       "      <td>2</td>\n",
       "      <td>10</td>\n",
       "      <td>7.014940e+05</td>\n",
       "    </tr>\n",
       "    <tr>\n",
       "      <th>996</th>\n",
       "      <td>3179</td>\n",
       "      <td>1</td>\n",
       "      <td>2</td>\n",
       "      <td>1999</td>\n",
       "      <td>2.977123</td>\n",
       "      <td>1</td>\n",
       "      <td>10</td>\n",
       "      <td>6.837232e+05</td>\n",
       "    </tr>\n",
       "    <tr>\n",
       "      <th>997</th>\n",
       "      <td>2606</td>\n",
       "      <td>4</td>\n",
       "      <td>2</td>\n",
       "      <td>1962</td>\n",
       "      <td>4.055067</td>\n",
       "      <td>0</td>\n",
       "      <td>2</td>\n",
       "      <td>5.720240e+05</td>\n",
       "    </tr>\n",
       "    <tr>\n",
       "      <th>998</th>\n",
       "      <td>4723</td>\n",
       "      <td>5</td>\n",
       "      <td>2</td>\n",
       "      <td>1950</td>\n",
       "      <td>1.930921</td>\n",
       "      <td>0</td>\n",
       "      <td>7</td>\n",
       "      <td>9.648653e+05</td>\n",
       "    </tr>\n",
       "    <tr>\n",
       "      <th>999</th>\n",
       "      <td>3268</td>\n",
       "      <td>4</td>\n",
       "      <td>2</td>\n",
       "      <td>1983</td>\n",
       "      <td>3.108790</td>\n",
       "      <td>2</td>\n",
       "      <td>2</td>\n",
       "      <td>7.425993e+05</td>\n",
       "    </tr>\n",
       "  </tbody>\n",
       "</table>\n",
       "<p>1000 rows × 8 columns</p>\n",
       "</div>"
      ],
      "text/plain": [
       "     Square_Footage  Num_Bedrooms  Num_Bathrooms  Year_Built  Lot_Size  \\\n",
       "0              1360             2              1        1981  0.599637   \n",
       "1              4272             3              3        2016  4.753014   \n",
       "2              3592             1              2        2016  3.634823   \n",
       "3               966             1              2        1977  2.730667   \n",
       "4              4926             2              1        1993  4.699073   \n",
       "..              ...           ...            ...         ...       ...   \n",
       "995            3261             4              1        1978  2.165110   \n",
       "996            3179             1              2        1999  2.977123   \n",
       "997            2606             4              2        1962  4.055067   \n",
       "998            4723             5              2        1950  1.930921   \n",
       "999            3268             4              2        1983  3.108790   \n",
       "\n",
       "     Garage_Size  Neighborhood_Quality   House_Price  \n",
       "0              0                     5  2.623829e+05  \n",
       "1              1                     6  9.852609e+05  \n",
       "2              0                     9  7.779774e+05  \n",
       "3              1                     8  2.296989e+05  \n",
       "4              0                     8  1.041741e+06  \n",
       "..           ...                   ...           ...  \n",
       "995            2                    10  7.014940e+05  \n",
       "996            1                    10  6.837232e+05  \n",
       "997            0                     2  5.720240e+05  \n",
       "998            0                     7  9.648653e+05  \n",
       "999            2                     2  7.425993e+05  \n",
       "\n",
       "[1000 rows x 8 columns]"
      ]
     },
     "execution_count": 4,
     "metadata": {},
     "output_type": "execute_result"
    }
   ],
   "source": [
    "df"
   ]
  },
  {
   "cell_type": "markdown",
   "metadata": {},
   "source": [
    "## 2. Data Preprocessing"
   ]
  },
  {
   "cell_type": "code",
   "execution_count": null,
   "metadata": {
    "trusted": true
   },
   "outputs": [],
   "source": []
  },
  {
   "cell_type": "markdown",
   "metadata": {},
   "source": [
    "## 3. Model"
   ]
  },
  {
   "cell_type": "code",
   "execution_count": null,
   "metadata": {
    "trusted": true
   },
   "outputs": [],
   "source": []
  },
  {
   "cell_type": "markdown",
   "metadata": {},
   "source": [
    "## 4. Evaluation"
   ]
  },
  {
   "cell_type": "code",
   "execution_count": null,
   "metadata": {
    "trusted": true
   },
   "outputs": [],
   "source": []
  }
 ],
 "metadata": {
  "kaggle": {
   "accelerator": "none",
   "dataSources": [
    {
     "datasetId": 5656167,
     "sourceId": 9334344,
     "sourceType": "datasetVersion"
    }
   ],
   "dockerImageVersionId": 30786,
   "isGpuEnabled": false,
   "isInternetEnabled": true,
   "language": "python",
   "sourceType": "notebook"
  },
  "kernelspec": {
   "display_name": "NSU_ML-Je-J2O7t",
   "language": "python",
   "name": "python3"
  },
  "language_info": {
   "codemirror_mode": {
    "name": "ipython",
    "version": 3
   },
   "file_extension": ".py",
   "mimetype": "text/x-python",
   "name": "python",
   "nbconvert_exporter": "python",
   "pygments_lexer": "ipython3",
   "version": "3.12.4"
  }
 },
 "nbformat": 4,
 "nbformat_minor": 4
}
